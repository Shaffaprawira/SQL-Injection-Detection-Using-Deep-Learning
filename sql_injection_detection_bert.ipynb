{
  "cells": [
    {
      "cell_type": "code",
      "execution_count": null,
      "metadata": {
        "colab": {
          "base_uri": "https://localhost:8080/"
        },
        "id": "-a0EsenRyHmu",
        "outputId": "114deffd-d012-44cc-a340-e940716f0118"
      },
      "outputs": [
        {
          "name": "stdout",
          "output_type": "stream",
          "text": [
            "Mounted at /content/drive\n"
          ]
        }
      ],
      "source": [
        "# Mount Google Drive\n",
        "from google.colab import drive\n",
        "drive.mount('/content/drive')"
      ]
    },
    {
      "cell_type": "code",
      "execution_count": null,
      "metadata": {
        "colab": {
          "base_uri": "https://localhost:8080/"
        },
        "id": "eVrW-SEXyLPc",
        "outputId": "8830c717-0516-4c30-d841-8b19351b7694"
      },
      "outputs": [
        {
          "name": "stdout",
          "output_type": "stream",
          "text": [
            "Archive:  /content/drive/MyDrive/Colab Notebooks/SKRIPSI/dataset.zip\n",
            "  inflating: Modified_SQL_Dataset.csv  \n"
          ]
        }
      ],
      "source": [
        "# Unzip the dataset\n",
        "!unzip '/content/drive/MyDrive/Colab Notebooks/SKRIPSI/dataset.zip'"
      ]
    },
    {
      "cell_type": "code",
      "execution_count": null,
      "metadata": {
        "colab": {
          "base_uri": "https://localhost:8080/"
        },
        "id": "AQ2I17e91oEP",
        "outputId": "2d648662-1cba-49cb-9fb1-c88019a74218"
      },
      "outputs": [
        {
          "name": "stdout",
          "output_type": "stream",
          "text": [
            "Archive:  /content/drive/MyDrive/Colab Notebooks/SKRIPSI/code_paling_fix/demo_25_juni/sql_injection_bert_model.zip\n",
            "  inflating: sql_injection_bert_model/tokenizer_config.json  \n",
            "  inflating: sql_injection_bert_model/vocab.txt  \n",
            "  inflating: sql_injection_bert_model/config.json  \n",
            "  inflating: sql_injection_bert_model/special_tokens_map.json  \n",
            "  inflating: sql_injection_bert_model/tf_model.h5  \n"
          ]
        }
      ],
      "source": [
        "!unzip '/content/drive/MyDrive/Colab Notebooks/SKRIPSI/code_paling_fix/demo_25_juni/sql_injection_bert_model.zip'"
      ]
    },
    {
      "cell_type": "code",
      "execution_count": null,
      "metadata": {
        "colab": {
          "base_uri": "https://localhost:8080/"
        },
        "id": "jKZLeGbIxppY",
        "outputId": "3f9114fb-2a87-4d56-de06-9287582abde3"
      },
      "outputs": [
        {
          "name": "stderr",
          "output_type": "stream",
          "text": [
            "[nltk_data] Downloading package stopwords to /root/nltk_data...\n",
            "[nltk_data]   Unzipping corpora/stopwords.zip.\n",
            "Some layers from the model checkpoint at /content/sql_injection_bert_model were not used when initializing TFBertForSequenceClassification: ['dropout_75']\n",
            "- This IS expected if you are initializing TFBertForSequenceClassification from the checkpoint of a model trained on another task or with another architecture (e.g. initializing a BertForSequenceClassification model from a BertForPreTraining model).\n",
            "- This IS NOT expected if you are initializing TFBertForSequenceClassification from the checkpoint of a model that you expect to be exactly identical (initializing a BertForSequenceClassification model from a BertForSequenceClassification model).\n",
            "All the layers of TFBertForSequenceClassification were initialized from the model checkpoint at /content/sql_injection_bert_model.\n",
            "If your task is similar to the task the model of the checkpoint was trained on, you can already use TFBertForSequenceClassification for predictions without further training.\n"
          ]
        },
        {
          "name": "stdout",
          "output_type": "stream",
          "text": [
            "Model: \"tf_bert_for_sequence_classification\"\n",
            "_________________________________________________________________\n",
            " Layer (type)                Output Shape              Param #   \n",
            "=================================================================\n",
            " bert (TFBertMainLayer)      multiple                  109482240 \n",
            "                                                                 \n",
            " dropout_37 (Dropout)        multiple                  0 (unused)\n",
            "                                                                 \n",
            " classifier (Dense)          multiple                  769       \n",
            "                                                                 \n",
            "=================================================================\n",
            "Total params: 109483009 (417.64 MB)\n",
            "Trainable params: 109483009 (417.64 MB)\n",
            "Non-trainable params: 0 (0.00 Byte)\n",
            "_________________________________________________________________\n"
          ]
        }
      ],
      "source": [
        "# Import necessary libraries\n",
        "import pandas as pd\n",
        "import tensorflow as tf\n",
        "import numpy as np\n",
        "from sklearn.feature_extraction.text import CountVectorizer\n",
        "import nltk\n",
        "from sklearn.metrics import confusion_matrix, classification_report, ConfusionMatrixDisplay\n",
        "import urllib.parse\n",
        "from transformers import BertTokenizer, TFBertForSequenceClassification\n",
        "from transformers import InputExample, InputFeatures\n",
        "from sklearn import metrics\n",
        "import matplotlib.pyplot as plt\n",
        "%matplotlib inline\n",
        "\n",
        "# Set random seeds for reproducibility\n",
        "np.random.seed(42)\n",
        "tf.random.set_seed(42)\n",
        "\n",
        "# Download NLTK stopwords\n",
        "nltk.download('stopwords')\n",
        "\n",
        "# Load the dataset from the CSV file\n",
        "df = pd.read_csv('/content/Modified_SQL_Dataset.csv')\n",
        "\n",
        "# Drop any rows with missing values\n",
        "df.dropna(inplace=True)\n",
        "\n",
        "# Filter the dataset to only include rows with labels 0 or 1\n",
        "df = df[(df['Label'] == 0) | (df['Label'] == 1)]\n",
        "\n",
        "# Remove duplicate queries to avoid bias in training\n",
        "df = df.drop_duplicates(subset='Query')\n",
        "\n",
        "# Convert the 'Label' column to numeric type\n",
        "df[\"Label\"] = pd.to_numeric(df[\"Label\"])\n",
        "\n",
        "# Shuffle the dataset to ensure randomness\n",
        "df = df.sample(frac=1, random_state=42).reset_index(drop=True)\n",
        "\n",
        "# Rename columns for easier access\n",
        "df.rename(columns={'Query': 'X', 'Label': 'y'}, inplace=True)\n",
        "\n",
        "# Split the data into training, validation, and test sets (80%, 10%, 10%)\n",
        "slice_index_1 = int(0.8 * len(df))\n",
        "slice_index_2 = int(0.9 * len(df))\n",
        "train_df = df.iloc[:slice_index_1, :]\n",
        "val_df = df.iloc[slice_index_1:slice_index_2, :]\n",
        "test_df = df.iloc[slice_index_2:, :]\n",
        "\n",
        "# Separate features (queries) and labels for each set\n",
        "X_train = train_df['X']\n",
        "y_train = train_df['y']\n",
        "X_val = val_df['X']\n",
        "y_val = val_df['y']\n",
        "X_test = test_df['X']\n",
        "y_test = test_df['y']\n",
        "\n",
        "# Load the BERT model and tokenizer from Google Drive\n",
        "model_load_path = '/content/sql_injection_bert_model'\n",
        "tokenizer = BertTokenizer.from_pretrained(model_load_path)\n",
        "model = TFBertForSequenceClassification.from_pretrained(model_load_path)\n",
        "\n",
        "# Function to convert data to BERT input format\n",
        "def convert_data_to_examples(X, y):\n",
        "    examples = []\n",
        "    for i in range(len(X)):\n",
        "        examples.append(InputExample(guid=None, text_a=X.iloc[i], text_b=None, label=y.iloc[i]))\n",
        "    return examples\n",
        "\n",
        "def convert_examples_to_tf_dataset(examples, tokenizer, max_length=128):\n",
        "    features = []\n",
        "    for e in examples:\n",
        "        input_dict = tokenizer.encode_plus(\n",
        "            e.text_a,\n",
        "            add_special_tokens=True,\n",
        "            max_length=max_length,\n",
        "            padding='max_length',\n",
        "            return_token_type_ids=False,\n",
        "            return_attention_mask=True,\n",
        "            truncation=True\n",
        "        )\n",
        "        input_ids, attention_mask = input_dict['input_ids'], input_dict['attention_mask']\n",
        "        features.append(\n",
        "            InputFeatures(input_ids=input_ids, attention_mask=attention_mask, label=e.label)\n",
        "        )\n",
        "\n",
        "    def gen():\n",
        "        for f in features:\n",
        "            yield (\n",
        "                {\n",
        "                    'input_ids': f.input_ids,\n",
        "                    'attention_mask': f.attention_mask\n",
        "                },\n",
        "                f.label\n",
        "            )\n",
        "\n",
        "    return tf.data.Dataset.from_generator(\n",
        "        gen,\n",
        "        ({\n",
        "            'input_ids': tf.int32,\n",
        "            'attention_mask': tf.int32\n",
        "        },\n",
        "        tf.int64),\n",
        "        ({\n",
        "            'input_ids': tf.TensorShape([None]),\n",
        "            'attention_mask': tf.TensorShape([None])\n",
        "        },\n",
        "        tf.TensorShape([]))\n",
        "    )\n",
        "\n",
        "# Convert data to BERT input format\n",
        "train_examples = convert_data_to_examples(X_train, y_train)\n",
        "val_examples = convert_data_to_examples(X_val, y_val)\n",
        "test_examples = convert_data_to_examples(X_test, y_test)\n",
        "\n",
        "# Convert examples to TensorFlow datasets\n",
        "train_ds = convert_examples_to_tf_dataset(train_examples, tokenizer)\n",
        "val_ds = convert_examples_to_tf_dataset(val_examples, tokenizer)\n",
        "test_ds = convert_examples_to_tf_dataset(test_examples, tokenizer)\n",
        "\n",
        "batch_size = 32\n",
        "train_ds = train_ds.shuffle(buffer_size=1024, seed=42).batch(batch_size).repeat()\n",
        "val_ds = val_ds.batch(batch_size)\n",
        "test_ds = test_ds.batch(batch_size)\n",
        "\n",
        "# Display the model architecture\n",
        "model.summary()"
      ]
    },
    {
      "cell_type": "code",
      "execution_count": null,
      "metadata": {
        "colab": {
          "base_uri": "https://localhost:8080/",
          "height": 727
        },
        "id": "MHhaRNOzyxwg",
        "outputId": "7024f389-0606-4cff-f3ce-89bb6714e707"
      },
      "outputs": [
        {
          "name": "stdout",
          "output_type": "stream",
          "text": [
            "97/97 [==============================] - 46s 258ms/step\n",
            "\n",
            "Confusion Matrix:\n",
            "[[1978    0]\n",
            " [   5 1108]]\n",
            "\n",
            "Classification Report:\n",
            "              precision    recall  f1-score   support\n",
            "\n",
            "           0     0.9975    1.0000    0.9987      1978\n",
            "           1     1.0000    0.9955    0.9977      1113\n",
            "\n",
            "    accuracy                         0.9984      3091\n",
            "   macro avg     0.9987    0.9978    0.9982      3091\n",
            "weighted avg     0.9984    0.9984    0.9984      3091\n",
            "\n"
          ]
        },
        {
          "data": {
            "image/png": "[encoded data removed]",
            "text/plain": [
              "<Figure size 640x480 with 2 Axes>"
            ]
          },
          "metadata": {},
          "output_type": "display_data"
        }
      ],
      "source": [
        "# Clear any previous confusion_matrix variable\n",
        "# if 'confusion_matrix' in locals():\n",
        "#     del confusion_matrix\n",
        "\n",
        "# Predict the labels for the test set\n",
        "y_pred_prob = model.predict(test_ds)\n",
        "y_pred = (y_pred_prob.logits > 0.5).astype(\"int32\")\n",
        "\n",
        "# Print the confusion matrix and classification report for the test set\n",
        "print(\"\\nConfusion Matrix:\")\n",
        "cm = confusion_matrix(y_test, y_pred)\n",
        "print(cm)\n",
        "\n",
        "print(\"\\nClassification Report:\")\n",
        "print(classification_report(y_test, y_pred, digits=4))\n",
        "\n",
        "# Generate and display the confusion matrix plot\n",
        "cm_display = ConfusionMatrixDisplay(confusion_matrix=cm, display_labels=['non sql injection', 'sql injection'])\n",
        "cm_display.plot()\n",
        "plt.show()"
      ]
    },
    {
      "cell_type": "code",
      "execution_count": null,
      "metadata": {
        "colab": {
          "base_uri": "https://localhost:8080/"
        },
        "id": "bSfkzsozPCco",
        "outputId": "0886f7d7-dd02-415a-fa05-1f5c9e413da1"
      },
      "outputs": [
        {
          "name": "stdout",
          "output_type": "stream",
          "text": [
            "accuracy score  : 0.9983824005176318\n",
            "precision score : 1.0\n",
            "recall score    : 0.995507637017071\n",
            "f1 score        : 0.9977487618190005\n"
          ]
        }
      ],
      "source": [
        "from sklearn.metrics import accuracy_score, precision_score, recall_score, f1_score\n",
        "\n",
        "print(f'accuracy score  : {accuracy_score(y_test, y_pred)}')\n",
        "print(f'precision score : {precision_score(y_test, y_pred)}')\n",
        "print(f'recall score    : {recall_score(y_test, y_pred)}')\n",
        "print(f'f1 score        : {f1_score(y_test, y_pred)}')"
      ]
    },
    {
      "cell_type": "code",
      "execution_count": null,
      "metadata": {
        "id": "7QPZrGvq3Zlp"
      },
      "outputs": [],
      "source": [
        "# Function to predict if an input query is an SQL injection statement\n",
        "def predict_sql_injection(query):\n",
        "    # Tokenize the query using the trained tokenizer\n",
        "    inputs = tokenizer(query, return_tensors='tf', max_length=128, padding='max_length', truncation=True)\n",
        "\n",
        "    # Predict using the trained model\n",
        "    prediction_prob = model.predict(inputs)\n",
        "    prediction = (prediction_prob.logits > 0.5).astype(\"int32\")\n",
        "\n",
        "    # Print the prediction result\n",
        "    if prediction == 1:\n",
        "        print(\"\\nTHE INPUT IS AN SQL INJECTION.\\n\")\n",
        "    else:\n",
        "        print(\"\\nTHE INPUT IS NOT AN SQL INJECTION.\\n\")\n",
        "\n",
        "# Function to extract the query string from a web request\n",
        "def extract_query_string(web_request):\n",
        "    # Split the request into parts\n",
        "    parts = web_request.split()\n",
        "\n",
        "    # Get the part containing the URL\n",
        "    url_part = parts[6]\n",
        "\n",
        "    # Split the URL into components\n",
        "    parsed_url = urllib.parse.urlparse(url_part)\n",
        "\n",
        "    # Extract and decode the query string\n",
        "    encoded_query_string = parsed_url.query\n",
        "    decoded_query_string = urllib.parse.unquote(encoded_query_string)\n",
        "\n",
        "    # Remove the '+' sign and print the decoded query string\n",
        "    decoded_query_string = decoded_query_string.replace('+', ' ')\n",
        "    print(f'\\nquery string: {decoded_query_string}\\n')\n",
        "\n",
        "    # Predict if the query string is an SQL injection\n",
        "    return predict_sql_injection(decoded_query_string)"
      ]
    },
    {
      "cell_type": "code",
      "execution_count": null,
      "metadata": {
        "colab": {
          "base_uri": "https://localhost:8080/"
        },
        "id": "p81GtAlhyw2C",
        "outputId": "f9a423a5-dec6-42b5-aab1-d9697f3082e4"
      },
      "outputs": [
        {
          "name": "stdout",
          "output_type": "stream",
          "text": [
            "Enter a query to check if it's an SQL injection (or type 'exit' to quit):::1 - - [25/Jun/2024:21:37:47 +0700] \"GET /dvwa/vulnerabilities/sqli/?id=%27+UNION+SELECT+user%2C+password+FROM+users+--&Submit=Submit&user_token=82c907425c04c059ebc4a4ced3237078 HTTP/1.1\" 200 4313 \"http://localhost/dvwa/vulnerabilities/sqli/\" \"Mozilla/5.0 (Windows NT 10.0; Win64; x64) AppleWebKit/537.36 (KHTML, like Gecko) Chrome/126.0.0.0 Safari/537.36\"\n"
          ]
        }
      ],
      "source": [
        "# Main loop to get user input and predict SQL injection\n",
        "while True:\n",
        "    user_input = input(\"Enter a query to check if it's an SQL injection (or type 'exit' to quit):\")\n",
        "    if user_input.lower() == 'exit':\n",
        "        break\n",
        "    extract_query_string(user_input)"
      ]
    }
  ],
  "metadata": {
    "accelerator": "GPU",
    "colab": {
      "gpuType": "T4",
      "provenance": []
    },
    "kernelspec": {
      "display_name": "Python 3",
      "name": "python3"
    },
    "language_info": {
      "name": "python"
    }
  },
  "nbformat": 4,
  "nbformat_minor": 0
}
